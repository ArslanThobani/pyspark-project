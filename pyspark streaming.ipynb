{
 "cells": [
  {
   "cell_type": "code",
   "execution_count": 1,
   "outputs": [],
   "source": [
    "from pyspark.sql import SparkSession\n",
    "import pyspark.sql.functions as F\n",
    "import pyspark.sql.types as T\n",
    "\n",
    "spark = SparkSession.builder.getOrCreate()"
   ],
   "metadata": {
    "collapsed": false,
    "pycharm": {
     "name": "#%%\n"
    }
   }
  },
  {
   "cell_type": "code",
   "execution_count": 11,
   "outputs": [],
   "source": [
    "events = spark.read.json(\"event_1.json\")"
   ],
   "metadata": {
    "collapsed": false,
    "pycharm": {
     "name": "#%%\n"
    }
   }
  },
  {
   "cell_type": "code",
   "execution_count": 12,
   "outputs": [
    {
     "name": "stdout",
     "output_type": "stream",
     "text": [
      "+--------------------+--------+--------------------+--------------------+------------+----------------+-------------+--------------------+----------------+----------+--------+-------------+----------+--------------------+----------------+----------+--------------+\n",
      "|         description|duration|           event_url|               group|          id|maybe_rsvp_count|        mtime|                name|payment_required|rsvp_limit|  status|         time|utc_offset|               venue|venue_visibility|visibility|yes_rsvp_count|\n",
      "+--------------------+--------+--------------------+--------------------+------------+----------------+-------------+--------------------+----------------+----------+--------+-------------+----------+--------------------+----------------+----------+--------------+\n",
      "|<p>May you have a...|    null|http://www.meetup...|{{2, career/busin...|lnsdslyvpbfc|               0|1478608237521|HAPPY THANKSGIVIN...|               0|        20|upcoming|1479922200000| -21600000|                null|          public|    public|             2|\n",
      "|<p>¡Saludos a tod...| 5400000|http://www.meetup...|{{34, tech, tech}...|   235127267|               0|1478608240757|Bienvenid@s, la p...|               0|        50|upcoming|1478730600000| -10800000|{Bulevar España 2...|          public|    public|            50|\n",
      "|<p>Details will b...|    null|http://www.meetup...|{{31, socializing...|   235433535|               0|1478608241629|     Xmas 2016 :D :D|               0|         0|upcoming|1482586200000|  19800000|                null|         members|    public|             2|\n",
      "|<p><img src=\"http...|25200000|http://www.meetup...|{{31, socializing...|   235415782|               0|1478608261144|80s and 90s Inter...|               0|       200|upcoming|1479578400000|   3600000|{9-11 rue du Coli...|          public|    public|           102|\n",
      "|<p><span>Sparkath...| 9000000|http://www.meetup...|{{34, tech, tech}...|   235275916|               0|1478608268981|Sparkathon - Deve...|               0|        20|upcoming|1478797200000|   3600000|{Zielna 37C, Wars...|          public|    public|            13|\n",
      "+--------------------+--------+--------------------+--------------------+------------+----------------+-------------+--------------------+----------------+----------+--------+-------------+----------+--------------------+----------------+----------+--------------+\n",
      "\n"
     ]
    }
   ],
   "source": [
    "events.show()"
   ],
   "metadata": {
    "collapsed": false,
    "pycharm": {
     "name": "#%%\n"
    }
   }
  },
  {
   "cell_type": "code",
   "execution_count": 13,
   "outputs": [
    {
     "data": {
      "text/plain": "['description',\n 'duration',\n 'event_url',\n 'group',\n 'id',\n 'maybe_rsvp_count',\n 'mtime',\n 'name',\n 'payment_required',\n 'rsvp_limit',\n 'status',\n 'time',\n 'utc_offset',\n 'venue',\n 'venue_visibility',\n 'visibility',\n 'yes_rsvp_count']"
     },
     "execution_count": 13,
     "metadata": {},
     "output_type": "execute_result"
    }
   ],
   "source": [
    "events.columns"
   ],
   "metadata": {
    "collapsed": false,
    "pycharm": {
     "name": "#%%\n"
    }
   }
  },
  {
   "cell_type": "code",
   "execution_count": 14,
   "outputs": [
    {
     "name": "stdout",
     "output_type": "stream",
     "text": [
      "root\n",
      " |-- description: string (nullable = true)\n",
      " |-- duration: long (nullable = true)\n",
      " |-- event_url: string (nullable = true)\n",
      " |-- group: struct (nullable = true)\n",
      " |    |-- category: struct (nullable = true)\n",
      " |    |    |-- id: long (nullable = true)\n",
      " |    |    |-- name: string (nullable = true)\n",
      " |    |    |-- shortname: string (nullable = true)\n",
      " |    |-- city: string (nullable = true)\n",
      " |    |-- country: string (nullable = true)\n",
      " |    |-- group_lat: double (nullable = true)\n",
      " |    |-- group_lon: double (nullable = true)\n",
      " |    |-- group_photo: struct (nullable = true)\n",
      " |    |    |-- highres_link: string (nullable = true)\n",
      " |    |    |-- photo_id: long (nullable = true)\n",
      " |    |    |-- photo_link: string (nullable = true)\n",
      " |    |    |-- thumb_link: string (nullable = true)\n",
      " |    |-- id: long (nullable = true)\n",
      " |    |-- join_mode: string (nullable = true)\n",
      " |    |-- name: string (nullable = true)\n",
      " |    |-- state: string (nullable = true)\n",
      " |    |-- urlname: string (nullable = true)\n",
      " |-- id: string (nullable = true)\n",
      " |-- maybe_rsvp_count: long (nullable = true)\n",
      " |-- mtime: long (nullable = true)\n",
      " |-- name: string (nullable = true)\n",
      " |-- payment_required: string (nullable = true)\n",
      " |-- rsvp_limit: long (nullable = true)\n",
      " |-- status: string (nullable = true)\n",
      " |-- time: long (nullable = true)\n",
      " |-- utc_offset: long (nullable = true)\n",
      " |-- venue: struct (nullable = true)\n",
      " |    |-- address_1: string (nullable = true)\n",
      " |    |-- city: string (nullable = true)\n",
      " |    |-- country: string (nullable = true)\n",
      " |    |-- lat: double (nullable = true)\n",
      " |    |-- lon: double (nullable = true)\n",
      " |    |-- name: string (nullable = true)\n",
      " |-- venue_visibility: string (nullable = true)\n",
      " |-- visibility: string (nullable = true)\n",
      " |-- yes_rsvp_count: long (nullable = true)\n",
      "\n"
     ]
    }
   ],
   "source": [
    "events.printSchema()"
   ],
   "metadata": {
    "collapsed": false,
    "pycharm": {
     "name": "#%%\n"
    }
   }
  },
  {
   "cell_type": "code",
   "execution_count": 16,
   "outputs": [],
   "source": [
    "event_schema = events.schema"
   ],
   "metadata": {
    "collapsed": false,
    "pycharm": {
     "name": "#%%\n"
    }
   }
  },
  {
   "cell_type": "code",
   "execution_count": 26,
   "outputs": [],
   "source": [
    "stream = (\n",
    "    spark.readStream.schema(event_schema)\n",
    "        .option(\"maxFilesPerTrigger\", 1)\n",
    "        .json('events/')\n",
    ")"
   ],
   "metadata": {
    "collapsed": false,
    "pycharm": {
     "name": "#%%\n"
    }
   }
  },
  {
   "cell_type": "code",
   "execution_count": 28,
   "outputs": [],
   "source": [
    "# Get and Transform the streaming data\n",
    "events_group = stream.groupBy(\"payment_required\").count().orderBy(F.desc(\"count\"))"
   ],
   "metadata": {
    "collapsed": false,
    "pycharm": {
     "name": "#%%\n"
    }
   }
  },
  {
   "cell_type": "code",
   "execution_count": 32,
   "outputs": [
    {
     "name": "stdout",
     "output_type": "stream",
     "text": [
      "+----------------+-----+\n",
      "|payment_required|count|\n",
      "+----------------+-----+\n",
      "|               0|    6|\n",
      "+----------------+-----+\n",
      "\n",
      "+----------------+-----+\n",
      "|payment_required|count|\n",
      "+----------------+-----+\n",
      "|               0|    6|\n",
      "+----------------+-----+\n",
      "\n",
      "+----------------+-----+\n",
      "|payment_required|count|\n",
      "+----------------+-----+\n",
      "|               0|    6|\n",
      "+----------------+-----+\n",
      "\n",
      "+----------------+-----+\n",
      "|payment_required|count|\n",
      "+----------------+-----+\n",
      "|               0|    6|\n",
      "+----------------+-----+\n",
      "\n",
      "+----------------+-----+\n",
      "|payment_required|count|\n",
      "+----------------+-----+\n",
      "|               0|    6|\n",
      "+----------------+-----+\n",
      "\n",
      "+----------------+-----+\n",
      "|payment_required|count|\n",
      "+----------------+-----+\n",
      "|               0|    6|\n",
      "+----------------+-----+\n",
      "\n",
      "+----------------+-----+\n",
      "|payment_required|count|\n",
      "+----------------+-----+\n",
      "|               0|    6|\n",
      "+----------------+-----+\n",
      "\n",
      "+----------------+-----+\n",
      "|payment_required|count|\n",
      "+----------------+-----+\n",
      "|               0|    6|\n",
      "+----------------+-----+\n",
      "\n",
      "+----------------+-----+\n",
      "|payment_required|count|\n",
      "+----------------+-----+\n",
      "|               0|    6|\n",
      "+----------------+-----+\n",
      "\n",
      "+----------------+-----+\n",
      "|payment_required|count|\n",
      "+----------------+-----+\n",
      "|               0|    6|\n",
      "+----------------+-----+\n",
      "\n",
      "+----------------+-----+\n",
      "|payment_required|count|\n",
      "+----------------+-----+\n",
      "|               0|    6|\n",
      "+----------------+-----+\n",
      "\n",
      "+----------------+-----+\n",
      "|payment_required|count|\n",
      "+----------------+-----+\n",
      "|               0|    6|\n",
      "+----------------+-----+\n",
      "\n",
      "+----------------+-----+\n",
      "|payment_required|count|\n",
      "+----------------+-----+\n",
      "|               0|    6|\n",
      "+----------------+-----+\n",
      "\n",
      "+----------------+-----+\n",
      "|payment_required|count|\n",
      "+----------------+-----+\n",
      "|               0|    6|\n",
      "+----------------+-----+\n",
      "\n",
      "+----------------+-----+\n",
      "|payment_required|count|\n",
      "+----------------+-----+\n",
      "|               0|    6|\n",
      "+----------------+-----+\n",
      "\n",
      "+----------------+-----+\n",
      "|payment_required|count|\n",
      "+----------------+-----+\n",
      "|               0|    6|\n",
      "+----------------+-----+\n",
      "\n",
      "+----------------+-----+\n",
      "|payment_required|count|\n",
      "+----------------+-----+\n",
      "|               0|    6|\n",
      "+----------------+-----+\n",
      "\n",
      "+----------------+-----+\n",
      "|payment_required|count|\n",
      "+----------------+-----+\n",
      "|               0|    6|\n",
      "+----------------+-----+\n",
      "\n"
     ]
    }
   ],
   "source": [
    "query = (\n",
    "    events_group.writeStream.queryName(\"events_group\")\n",
    "    .format(\"memory\")\n",
    "    .outputMode(\"complete\")\n",
    "    .start()\n",
    ")\n",
    "# uncomment this line to continuously accept stream of data\n",
    "# query.awaitTermination()\n",
    "\n",
    "import time\n",
    "\n",
    "for x in range(50):\n",
    "    _df = spark.sql(\n",
    "        \"SELECT * FROM events_group\"\n",
    "    )\n",
    "    if _df.count() > 0:\n",
    "        _df.show()\n",
    "    time.sleep(0.5)"
   ],
   "metadata": {
    "collapsed": false,
    "pycharm": {
     "name": "#%%\n"
    }
   }
  },
  {
   "cell_type": "code",
   "execution_count": 33,
   "outputs": [
    {
     "data": {
      "text/plain": "{'message': 'Waiting for data to arrive',\n 'isDataAvailable': False,\n 'isTriggerActive': False}"
     },
     "execution_count": 33,
     "metadata": {},
     "output_type": "execute_result"
    }
   ],
   "source": [
    "query.status"
   ],
   "metadata": {
    "collapsed": false,
    "pycharm": {
     "name": "#%%\n"
    }
   }
  },
  {
   "cell_type": "code",
   "execution_count": 31,
   "outputs": [],
   "source": [
    "query.stop()"
   ],
   "metadata": {
    "collapsed": false,
    "pycharm": {
     "name": "#%%\n"
    }
   }
  }
 ],
 "metadata": {
  "kernelspec": {
   "display_name": "Python 3 (ipykernel)",
   "language": "python",
   "name": "python3"
  },
  "language_info": {
   "codemirror_mode": {
    "name": "ipython",
    "version": 3
   },
   "file_extension": ".py",
   "mimetype": "text/x-python",
   "name": "python",
   "nbconvert_exporter": "python",
   "pygments_lexer": "ipython3",
   "version": "3.10.5"
  }
 },
 "nbformat": 4,
 "nbformat_minor": 5
}